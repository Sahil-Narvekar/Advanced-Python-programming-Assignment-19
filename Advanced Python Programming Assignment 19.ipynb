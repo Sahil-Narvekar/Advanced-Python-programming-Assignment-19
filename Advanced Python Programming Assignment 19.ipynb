{
 "cells": [
  {
   "cell_type": "code",
   "execution_count": null,
   "metadata": {},
   "outputs": [],
   "source": [
    "1. Create a checker board generator, which takes as inputs n and 2 elements to generate an n x n checkerboard with those two elements as alternating squares.\n",
    "\n",
    "Examples\n",
    "\n",
    "checker_board(2, 7, 6) ➞ [\n",
    "  [7, 6],\n",
    "  [6, 7]\n",
    "]\n",
    "\n",
    "checker_board(3, \"A\", \"B\") ➞ [\n",
    "  [\"A\", \"B\", \"A\"],\n",
    "  [\"B\", \"A\", \"B\"],\n",
    "  [\"A\", \"B\", \"A\"]\n",
    "]\n",
    "\n",
    "checker_board(4, \"c\", \"d\") ➞ [\n",
    "  [\"c\", \"d\", \"c\", \"d\"],\n",
    "  [\"d\", \"c\", \"d\", \"c\"],\n",
    "  [\"c\", \"d\", \"c\", \"d\"],\n",
    "  [\"d\", \"c\", \"d\", \"c\"]\n",
    "]\n",
    "\n",
    "checker_board(4, \"c\", \"c\") ➞ \"invalid\"\n"
   ]
  },
  {
   "cell_type": "code",
   "execution_count": 76,
   "metadata": {},
   "outputs": [
    {
     "name": "stdout",
     "output_type": "stream",
     "text": [
      "Enter the 3 inputs 4,c,d\n"
     ]
    },
    {
     "data": {
      "application/javascript": [
       "\n",
       "        if (window._pyforest_update_imports_cell) { window._pyforest_update_imports_cell('import numpy as np'); }\n",
       "    "
      ],
      "text/plain": [
       "<IPython.core.display.Javascript object>"
      ]
     },
     "metadata": {},
     "output_type": "display_data"
    },
    {
     "data": {
      "application/javascript": [
       "\n",
       "        if (window._pyforest_update_imports_cell) { window._pyforest_update_imports_cell('import numpy as np'); }\n",
       "    "
      ],
      "text/plain": [
       "<IPython.core.display.Javascript object>"
      ]
     },
     "metadata": {},
     "output_type": "display_data"
    },
    {
     "data": {
      "text/plain": [
       "matrix([['c', 'd', 'c', 'd'],\n",
       "        ['d', 'c', 'd', 'c'],\n",
       "        ['c', 'd', 'c', 'd'],\n",
       "        ['d', 'c', 'd', 'c']], dtype='<U11')"
      ]
     },
     "execution_count": 76,
     "metadata": {},
     "output_type": "execute_result"
    }
   ],
   "source": [
    "def checker_board(a,b,d):\n",
    "    if b==d:\n",
    "        return 'invalid'\n",
    "    else:\n",
    "        a=int(a)\n",
    "        n=a*a\n",
    "        c=np.arange(n).reshape((a,a))\n",
    "        c=np.matrix(c,dtype=str)\n",
    "        for i in range(a):\n",
    "            for j in range(a):\n",
    "                if (i+j)%2==0:\n",
    "                    c[i,j]=str(b)\n",
    "                else:\n",
    "                    c[i,j]=str(d)             \n",
    "        return c\n",
    "x,y,z=input('Enter the 3 inputs ').split(',')\n",
    "checker_board(x,y,z)"
   ]
  },
  {
   "cell_type": "code",
   "execution_count": null,
   "metadata": {},
   "outputs": [],
   "source": [
    "2. A string is an almost-palindrome if, by changing only one character, you can make it a palindrome.\n",
    "Create a function that returns True if a string is an almost-palindrome and False otherwise.\n",
    "\n",
    "Examples\n",
    "\n",
    "almost_palindrome(\"abcdcbg\") ➞ True\n",
    "# Transformed to \"abcdcba\" by changing \"g\" to \"a\".\n",
    "\n",
    "almost_palindrome(\"abccia\") ➞ True\n",
    "# Transformed to \"abccba\" by changing \"i\" to \"b\".\n",
    "\n",
    "almost_palindrome(\"abcdaaa\") ➞ False\n",
    "# Can't be transformed to a palindrome in exactly 1 turn.\n",
    "\n",
    "almost_palindrome(\"1234312\") ➞ False\n"
   ]
  },
  {
   "cell_type": "code",
   "execution_count": 103,
   "metadata": {},
   "outputs": [
    {
     "name": "stdout",
     "output_type": "stream",
     "text": [
      "Enter the string 1234312\n"
     ]
    },
    {
     "data": {
      "text/plain": [
       "False"
      ]
     },
     "execution_count": 103,
     "metadata": {},
     "output_type": "execute_result"
    }
   ],
   "source": [
    "h=input('Enter the string ')\n",
    "def almost_palindrome(a):\n",
    "    if len(a)%2!=0:\n",
    "        d=len(a)//2\n",
    "        a=a[:d]+a[d+1:]\n",
    "    y,z=a[:(len(a))//2],a[(len(a)//2):]\n",
    "    count=0\n",
    "    for i in range(len(y)):\n",
    "        if (z[-i-1])!=y[i]:\n",
    "            count+=1\n",
    "    if count<=1:\n",
    "        return True\n",
    "    else:\n",
    "        return False\n",
    "almost_palindrome(h)"
   ]
  },
  {
   "cell_type": "code",
   "execution_count": null,
   "metadata": {},
   "outputs": [],
   "source": [
    "3. Create a function that finds how many prime numbers there are, up to the given integer.\n",
    "\n",
    "Examples\n",
    "\n",
    "prime_numbers(10) ➞ 4\n",
    "# 2, 3, 5 and 7\n",
    "\n",
    "prime_numbers(20) ➞ 8\n",
    "# 2, 3, 5, 7, 11, 13, 17 and 19\n",
    "\n",
    "prime_numbers(30) ➞ 10\n",
    "# 2, 3, 5, 7, 11, 13, 17, 19, 23 and 29\n",
    "\n"
   ]
  },
  {
   "cell_type": "code",
   "execution_count": 16,
   "metadata": {},
   "outputs": [
    {
     "name": "stdout",
     "output_type": "stream",
     "text": [
      "Enter the number 30\n"
     ]
    },
    {
     "data": {
      "text/plain": [
       "10"
      ]
     },
     "execution_count": 16,
     "metadata": {},
     "output_type": "execute_result"
    }
   ],
   "source": [
    "def prime_numbers(a):\n",
    "    if a<2:\n",
    "        return('Enter valid number')\n",
    "    elif a ==2 or a==3:\n",
    "        return a-1\n",
    "    b=[i for i in range(a+1) ]\n",
    "    def findprime(a):\n",
    "        for i in range(2,a):\n",
    "            if a%i==0:\n",
    "                return 0\n",
    "            else:\n",
    "                if i==(a-1):\n",
    "                    return 1            \n",
    "    d=map(findprime,b[3:])\n",
    "    return (sum(list(d))+1)\n",
    "   \n",
    "f=int(input('Enter the number '))\n",
    "prime_numbers(f)\n"
   ]
  },
  {
   "cell_type": "code",
   "execution_count": null,
   "metadata": {},
   "outputs": [],
   "source": [
    "4. If today was Monday, in two days, it would be Wednesday.\n",
    "\n",
    "Create a function that takes in a list of days as input and the number of days to increment by. Return a\n",
    "list of days after n number of days has passed.\n",
    "\n",
    "Examples\n",
    "\n",
    "after_n_days([\"Thursday\", \"Monday\"], 4) ➞ [\"Monday\", \"Friday\"]\n",
    "\n",
    "after_n_days([\"Sunday\", \"Sunday\", \"Sunday\"], 1) ➞ [\"Monday\", \"Monday\", \"Monday\"]\n",
    "\n",
    "after_n_days([\"Monday\", \"Tuesday\", \"Friday\"], 1) ➞ [\"Tuesday\", \"Wednesday\", \"Saturday\"]\n"
   ]
  },
  {
   "cell_type": "markdown",
   "metadata": {},
   "source": [
    "There is some bug in my notebook sometimes am not able to get output from cell number 99 \n",
    "so please refer cell below that in such case"
   ]
  },
  {
   "cell_type": "code",
   "execution_count": 99,
   "metadata": {},
   "outputs": [
    {
     "name": "stdout",
     "output_type": "stream",
     "text": [
      "Enter the list of days \"Monday\",\"Tuesday\",\"Saturday\",\"Sunday\",\"Sunday\"\n",
      "Enter the number of days 6\n"
     ]
    },
    {
     "data": {
      "text/plain": [
       "['Sunday', 'Monday', 'Friday', 'Saturday', 'Saturday']"
      ]
     },
     "execution_count": 99,
     "metadata": {},
     "output_type": "execute_result"
    }
   ],
   "source": [
    "\n",
    "w=[\"Monday\", \"Tuesday\", \"Friday\",\"Saturday\"]\n",
    "def after_n_days(v,g):\n",
    "    week_days=[\"Monday\",\"Tuesday\",\"Wednesday\",\"Thursday\",\"Friday\",\"Saturday\",\"Sunday\"]\n",
    "    r=dict()\n",
    "    z=[]\n",
    "    for i in range(0,7):\n",
    "        r[i]=week_days[i]\n",
    "    for i in g:\n",
    "        for j,k in r.items():\n",
    "            if k==i:\n",
    "                x=(j+v)%7\n",
    "                z.append(week_days[x])\n",
    "    return z\n",
    "x=input('Enter the list of days ')\n",
    "x=x.replace('\"','')\n",
    "x=x.replace(\"'\",'')\n",
    "x=x.split(',')\n",
    "y=int(input('Enter the number of days '))\n",
    "after_n_days(y,x)"
   ]
  },
  {
   "cell_type": "code",
   "execution_count": 100,
   "metadata": {},
   "outputs": [
    {
     "data": {
      "text/plain": [
       "['Sunday', 'Monday', 'Wednesday', 'Sunday']"
      ]
     },
     "execution_count": 100,
     "metadata": {},
     "output_type": "execute_result"
    }
   ],
   "source": [
    "week_days=[\"Monday\",\"Tuesday\",\"Wednesday\",\"Thursday\",\"Friday\",\"Saturday\",\"Sunday\"]\n",
    "r=dict()\n",
    "g=[\"Monday\",\"Tuesday\",\"Thursday\", \"Monday\"]\n",
    "v=6\n",
    "z=[]\n",
    "for i in range(0,7):\n",
    "    r[i]=week_days[i]\n",
    "for i in g:\n",
    "    for j,k in r.items():\n",
    "        if k==i:\n",
    "            x=(j+v)%7\n",
    "            #print(x,week_days[x])\n",
    "            z.append(week_days[x])\n",
    "\n",
    "z"
   ]
  },
  {
   "cell_type": "code",
   "execution_count": null,
   "metadata": {},
   "outputs": [],
   "source": [
    "5. You are in the process of creating a chat application and want to add an anonymous name feature. This\n",
    "anonymous name feature will create an alias that consists of two capitalized words beginning with the \n",
    "same letter as the users first name.\n",
    "\n",
    "Create a function that determines if the list of users is mapped to a list of anonymous names correctly.\n",
    "\n",
    "Examples\n",
    "\n",
    "is_correct_aliases([\"Adrian M.\", \"Harriet S.\", \"Mandy T.\"], [\"Amazing Artichoke\", \"Hopeful Hedgehog\", \"Marvelous Mouse\"]) ➞ True\n",
    "\n",
    "is_correct_aliases([\"Rachel F.\", \"Pam G.\", \"Fred Z.\", \"Nancy K.\"], [\"Reassuring Rat\", \"Peaceful Panda\", \"Fantastic Frog\", \"Notable Nickel\"]) ➞ True\n",
    "\n",
    "is_correct_aliases([\"Beth T.\"], [\"Brandishing Mimosa\"]) ➞ False\n",
    "# Both words in \"Brandishing Mimosa\" should begin with a \"B\" - \"Brandishing Beaver\" would do the trick.\n"
   ]
  },
  {
   "cell_type": "code",
   "execution_count": 126,
   "metadata": {},
   "outputs": [
    {
     "name": "stdout",
     "output_type": "stream",
     "text": [
      "Enter the users listAdrian M.\", \"Harriet S.\", \"Mandy T.\n",
      "Enter list of Anonymous names \"Amazing Artichoke\", \"Hopeful Hedgehog\", \"Marvelous Mouse\"\n"
     ]
    },
    {
     "data": {
      "text/plain": [
       "True"
      ]
     },
     "execution_count": 126,
     "metadata": {},
     "output_type": "execute_result"
    }
   ],
   "source": [
    "\n",
    "a=input('Enter the users list')\n",
    "a=a.replace('\"','').replace(\"'\",'')\n",
    "a=a.replace(\", \",',').split(',')\n",
    "b=input('Enter list of Anonymous names ')\n",
    "b=b.replace('\"','').replace(\"'\",'')\n",
    "b=b.replace(\", \",',').split(',')\n",
    "def is_correct_aliases(a,b):\n",
    "    r,k=[],[]\n",
    "    for i in a:\n",
    "        r.append(i[0])\n",
    "    for i in b:\n",
    "        z=i.index(' ')\n",
    "        if i[z+1]==i[0]:\n",
    "            k.append(i[0])\n",
    "    if r==k:\n",
    "        return(True)\n",
    "    else:\n",
    "        return(False)\n",
    "is_correct_aliases(a,b)"
   ]
  },
  {
   "cell_type": "code",
   "execution_count": null,
   "metadata": {},
   "outputs": [],
   "source": []
  }
 ],
 "metadata": {
  "kernelspec": {
   "display_name": "Python 3",
   "language": "python",
   "name": "python3"
  },
  "language_info": {
   "codemirror_mode": {
    "name": "ipython",
    "version": 3
   },
   "file_extension": ".py",
   "mimetype": "text/x-python",
   "name": "python",
   "nbconvert_exporter": "python",
   "pygments_lexer": "ipython3",
   "version": "3.8.3"
  }
 },
 "nbformat": 4,
 "nbformat_minor": 4
}
